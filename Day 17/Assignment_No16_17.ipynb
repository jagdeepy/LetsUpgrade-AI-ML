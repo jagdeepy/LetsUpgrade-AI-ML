{
 "cells": [
  {
   "cell_type": "code",
   "execution_count": 1,
   "metadata": {},
   "outputs": [],
   "source": [
    "%matplotlib inline\n",
    "import pandas as pd"
   ]
  },
  {
   "cell_type": "code",
   "execution_count": 2,
   "metadata": {},
   "outputs": [
    {
     "data": {
      "text/html": [
       "<div>\n",
       "<style scoped>\n",
       "    .dataframe tbody tr th:only-of-type {\n",
       "        vertical-align: middle;\n",
       "    }\n",
       "\n",
       "    .dataframe tbody tr th {\n",
       "        vertical-align: top;\n",
       "    }\n",
       "\n",
       "    .dataframe thead th {\n",
       "        text-align: right;\n",
       "    }\n",
       "</style>\n",
       "<table border=\"1\" class=\"dataframe\">\n",
       "  <thead>\n",
       "    <tr style=\"text-align: right;\">\n",
       "      <th></th>\n",
       "      <th>title</th>\n",
       "      <th>year</th>\n",
       "    </tr>\n",
       "  </thead>\n",
       "  <tbody>\n",
       "    <tr>\n",
       "      <th>0</th>\n",
       "      <td>Tasveer Mere Sanam</td>\n",
       "      <td>1996</td>\n",
       "    </tr>\n",
       "    <tr>\n",
       "      <th>1</th>\n",
       "      <td>Only You</td>\n",
       "      <td>1994</td>\n",
       "    </tr>\n",
       "    <tr>\n",
       "      <th>2</th>\n",
       "      <td>El pueblo del terror</td>\n",
       "      <td>1970</td>\n",
       "    </tr>\n",
       "    <tr>\n",
       "      <th>3</th>\n",
       "      <td>Machine</td>\n",
       "      <td>2007</td>\n",
       "    </tr>\n",
       "    <tr>\n",
       "      <th>4</th>\n",
       "      <td>MARy</td>\n",
       "      <td>2008</td>\n",
       "    </tr>\n",
       "  </tbody>\n",
       "</table>\n",
       "</div>"
      ],
      "text/plain": [
       "                  title  year\n",
       "0    Tasveer Mere Sanam  1996\n",
       "1              Only You  1994\n",
       "2  El pueblo del terror  1970\n",
       "3               Machine  2007\n",
       "4                  MARy  2008"
      ]
     },
     "execution_count": 2,
     "metadata": {},
     "output_type": "execute_result"
    }
   ],
   "source": [
    "titles = pd.read_csv(r'/home/jagdeep/Desktop/LetsUpgrade/Dataset/titles.csv')\n",
    "titles.head()"
   ]
  },
  {
   "cell_type": "markdown",
   "metadata": {},
   "source": [
    "__Q.1 How many movies are listed in the titles dataframe?__"
   ]
  },
  {
   "cell_type": "code",
   "execution_count": 5,
   "metadata": {},
   "outputs": [
    {
     "name": "stdout",
     "output_type": "stream",
     "text": [
      "Number of Rows :244914\n",
      "Number of Columns :2\n",
      "Total movies are listed in the titles dataframe : 244914\n"
     ]
    }
   ],
   "source": [
    "total_rows = len(titles.axes[0])\n",
    "total_cols = len(titles.axes[1])\n",
    "print(\"Number of Rows :\"+str(total_rows))\n",
    "print(\"Number of Columns :\"+str(total_cols))\n",
    "print(\"Total movies are listed in the titles dataframe :\", total_rows)"
   ]
  },
  {
   "cell_type": "code",
   "execution_count": 7,
   "metadata": {},
   "outputs": [
    {
     "data": {
      "text/html": [
       "<div>\n",
       "<style scoped>\n",
       "    .dataframe tbody tr th:only-of-type {\n",
       "        vertical-align: middle;\n",
       "    }\n",
       "\n",
       "    .dataframe tbody tr th {\n",
       "        vertical-align: top;\n",
       "    }\n",
       "\n",
       "    .dataframe thead th {\n",
       "        text-align: right;\n",
       "    }\n",
       "</style>\n",
       "<table border=\"1\" class=\"dataframe\">\n",
       "  <thead>\n",
       "    <tr style=\"text-align: right;\">\n",
       "      <th></th>\n",
       "      <th>title</th>\n",
       "      <th>year</th>\n",
       "    </tr>\n",
       "  </thead>\n",
       "  <tbody>\n",
       "    <tr>\n",
       "      <th>0</th>\n",
       "      <td>False</td>\n",
       "      <td>False</td>\n",
       "    </tr>\n",
       "    <tr>\n",
       "      <th>1</th>\n",
       "      <td>False</td>\n",
       "      <td>False</td>\n",
       "    </tr>\n",
       "    <tr>\n",
       "      <th>2</th>\n",
       "      <td>False</td>\n",
       "      <td>False</td>\n",
       "    </tr>\n",
       "    <tr>\n",
       "      <th>3</th>\n",
       "      <td>False</td>\n",
       "      <td>False</td>\n",
       "    </tr>\n",
       "    <tr>\n",
       "      <th>4</th>\n",
       "      <td>False</td>\n",
       "      <td>False</td>\n",
       "    </tr>\n",
       "    <tr>\n",
       "      <th>...</th>\n",
       "      <td>...</td>\n",
       "      <td>...</td>\n",
       "    </tr>\n",
       "    <tr>\n",
       "      <th>244909</th>\n",
       "      <td>False</td>\n",
       "      <td>False</td>\n",
       "    </tr>\n",
       "    <tr>\n",
       "      <th>244910</th>\n",
       "      <td>False</td>\n",
       "      <td>False</td>\n",
       "    </tr>\n",
       "    <tr>\n",
       "      <th>244911</th>\n",
       "      <td>False</td>\n",
       "      <td>False</td>\n",
       "    </tr>\n",
       "    <tr>\n",
       "      <th>244912</th>\n",
       "      <td>False</td>\n",
       "      <td>False</td>\n",
       "    </tr>\n",
       "    <tr>\n",
       "      <th>244913</th>\n",
       "      <td>False</td>\n",
       "      <td>False</td>\n",
       "    </tr>\n",
       "  </tbody>\n",
       "</table>\n",
       "<p>244914 rows × 2 columns</p>\n",
       "</div>"
      ],
      "text/plain": [
       "        title   year\n",
       "0       False  False\n",
       "1       False  False\n",
       "2       False  False\n",
       "3       False  False\n",
       "4       False  False\n",
       "...       ...    ...\n",
       "244909  False  False\n",
       "244910  False  False\n",
       "244911  False  False\n",
       "244912  False  False\n",
       "244913  False  False\n",
       "\n",
       "[244914 rows x 2 columns]"
      ]
     },
     "execution_count": 7,
     "metadata": {},
     "output_type": "execute_result"
    }
   ],
   "source": [
    "titles.isnull()"
   ]
  },
  {
   "cell_type": "code",
   "execution_count": 8,
   "metadata": {},
   "outputs": [
    {
     "data": {
      "text/plain": [
       "0"
      ]
     },
     "execution_count": 8,
     "metadata": {},
     "output_type": "execute_result"
    }
   ],
   "source": [
    "titles.isnull().sum().sum()"
   ]
  },
  {
   "cell_type": "markdown",
   "metadata": {},
   "source": [
    "__Q.2 What are the earliest two films listed in the tiles dataframe?__"
   ]
  },
  {
   "cell_type": "code",
   "execution_count": 30,
   "metadata": {},
   "outputs": [
    {
     "name": "stdout",
     "output_type": "stream",
     "text": [
      "min value element :  1894\n",
      "Sort the data frame ‘year’ in ascending order:\n",
      "                                                 title  year\n",
      "193222                                      Miss Jerry  1894\n",
      "51388                               The Startled Lover  1898\n",
      "4584    Reproduction of the Corbett and Jeffries Fight  1899\n",
      "108586                            Family Troubles (II)  1900\n",
      "219198                                  May Day Parade  1900\n",
      "...                                                ...   ...\n",
      "217349                               The Dreams I Have  2024\n",
      "224450                                    War in Black  2024\n",
      "34213                                         Avatar 5  2025\n",
      "183018                        The Zero Century: Maetel  2026\n",
      "242196                                       100 Years  2115\n",
      "\n",
      "[244914 rows x 2 columns]\n"
     ]
    }
   ],
   "source": [
    "titles.head(None)\n",
    "#finding mini and max\n",
    "print (\"min value element : \", titles.min(axis=0)[1])\n",
    "# print (\"max value element : \", my_data.max(axis=0)[2])\n",
    "# print(\"Earliest two films :\")\n",
    "result_sort=titles.sort_values(by=['year', 'title'], ascending=[True, True])\n",
    "print(\"Sort the data frame ‘year’ in ascending order:\")\n",
    "print(result_sort)"
   ]
  },
  {
   "cell_type": "code",
   "execution_count": 35,
   "metadata": {},
   "outputs": [
    {
     "name": "stdout",
     "output_type": "stream",
     "text": [
      "The earliest two films listed in the tiles dataframe are :\n",
      "                      title  year\n",
      "193222          Miss Jerry  1894\n",
      "51388   The Startled Lover  1898\n"
     ]
    }
   ],
   "source": [
    "#Answer\n",
    "df=result_sort\n",
    "print(\"The earliest two films listed in the tiles dataframe are :\\n\", df.head(2))"
   ]
  },
  {
   "cell_type": "markdown",
   "metadata": {},
   "source": [
    "__Q.3 How many movies have the title \"Hamlet\"?__"
   ]
  },
  {
   "cell_type": "code",
   "execution_count": 76,
   "metadata": {},
   "outputs": [
    {
     "name": "stdout",
     "output_type": "stream",
     "text": [
      "                                      title  year  Total_GeneralID\n",
      "0                        Tasveer Mere Sanam  1996                1\n",
      "1                                  Only You  1994                3\n",
      "2                      El pueblo del terror  1970                1\n",
      "3                                   Machine  2007                2\n",
      "4                                      MARy  2008                1\n",
      "...                                     ...   ...              ...\n",
      "244909  Black Butterfly in a Colorful World  2018                1\n",
      "244910        Hua fei hua wu chun man cheng  1980                1\n",
      "244911                 Nippon dabi katsukyu  1970                1\n",
      "244912        Under Siege 2: Dark Territory  1995                1\n",
      "244913            She Must Be Seeing Things  1987                1\n",
      "\n",
      "[244914 rows x 3 columns]\n"
     ]
    }
   ],
   "source": [
    "# df = pd.read_csv('file')\n",
    "s = titles['title'].value_counts().rename('Total_GeneralID')\n",
    "title1 = titles.join(s, on='title')\n",
    "print (title1)"
   ]
  },
  {
   "cell_type": "code",
   "execution_count": 85,
   "metadata": {},
   "outputs": [
    {
     "name": "stdout",
     "output_type": "stream",
     "text": [
      "                   title  year  Total_GeneralID\n",
      "93917   #1 Serial Killer  2013                1\n",
      "98963               #211  2018                1\n",
      "23496                 #5  2013                1\n",
      "239101        #50Fathers  2015                1\n",
      "220852               #66  2015                1\n",
      "...                  ...   ...              ...\n",
      "173033            Hamlet  2011               20\n",
      "202025            Hamlet  2014               20\n",
      "154029            Hamlet  2015               20\n",
      "88065             Hamlet  2016               20\n",
      "6422              Hamlet  2017               20\n",
      "\n",
      "[244914 rows x 3 columns]\n",
      "       title  year  Total_GeneralID\n",
      "6422  Hamlet  2017               20 movies have the title Hamlet\n",
      "\n",
      "20 movies have the title Hamlet\n",
      "\n"
     ]
    }
   ],
   "source": [
    "result_sort=title1.sort_values(by=['Total_GeneralID', 'title','year'], ascending=[True, True, True])\n",
    "print(result_sort)\n",
    "df11=result_sort\n",
    "print(df11.tail(1),\"movies have the title Hamlet\\n\")\n",
    "\n",
    "print(\"20 movies have the title Hamlet\\n\")\n"
   ]
  },
  {
   "cell_type": "markdown",
   "metadata": {},
   "source": [
    "__Q. How many movies are titled \"North by Northwest\"?__"
   ]
  },
  {
   "cell_type": "code",
   "execution_count": 17,
   "metadata": {},
   "outputs": [
    {
     "name": "stdout",
     "output_type": "stream",
     "text": [
      "The titled North by Northwest movie is : 1\n"
     ]
    }
   ],
   "source": [
    "# movie = titles.groupby('title').size().sort_values(ascending=False)[:55]\n",
    "titles.query('title == \"North by Northwest\"').title.count()\n",
    "print(\"The titled North by Northwest movie is :\", titles.query('title == \"North by Northwest\"').title.count()\n",
    ")"
   ]
  },
  {
   "cell_type": "markdown",
   "metadata": {},
   "source": [
    "__Q. When was the first movie titled \"Hamlet\" made?__"
   ]
  },
  {
   "cell_type": "code",
   "execution_count": 38,
   "metadata": {},
   "outputs": [
    {
     "name": "stdout",
     "output_type": "stream",
     "text": [
      "The first movie titled Hamlet made :         title  year\n",
      "52521  Hamlet  1910\n"
     ]
    }
   ],
   "source": [
    "firstMovie=titles[titles.title == \"Hamlet\"][:20]\n",
    "firstMovie.sort_values([\"title\", \"year\"], axis=0, \n",
    "                 ascending=True, inplace=True) \n",
    "print(\"The first movie titled Hamlet made :\",firstMovie.head(1))"
   ]
  },
  {
   "cell_type": "markdown",
   "metadata": {},
   "source": [
    "__Q. List all of the \"Treasure Island\" movies from earliest to most recent.__"
   ]
  },
  {
   "cell_type": "code",
   "execution_count": 42,
   "metadata": {},
   "outputs": [
    {
     "data": {
      "text/html": [
       "<div>\n",
       "<style scoped>\n",
       "    .dataframe tbody tr th:only-of-type {\n",
       "        vertical-align: middle;\n",
       "    }\n",
       "\n",
       "    .dataframe tbody tr th {\n",
       "        vertical-align: top;\n",
       "    }\n",
       "\n",
       "    .dataframe thead th {\n",
       "        text-align: right;\n",
       "    }\n",
       "</style>\n",
       "<table border=\"1\" class=\"dataframe\">\n",
       "  <thead>\n",
       "    <tr style=\"text-align: right;\">\n",
       "      <th></th>\n",
       "      <th>title</th>\n",
       "      <th>year</th>\n",
       "    </tr>\n",
       "  </thead>\n",
       "  <tbody>\n",
       "    <tr>\n",
       "      <th>27076</th>\n",
       "      <td>Treasure Island</td>\n",
       "      <td>1999</td>\n",
       "    </tr>\n",
       "    <tr>\n",
       "      <th>37238</th>\n",
       "      <td>Treasure Island</td>\n",
       "      <td>1973</td>\n",
       "    </tr>\n",
       "    <tr>\n",
       "      <th>55686</th>\n",
       "      <td>Treasure Island</td>\n",
       "      <td>1918</td>\n",
       "    </tr>\n",
       "    <tr>\n",
       "      <th>65051</th>\n",
       "      <td>Treasure Island</td>\n",
       "      <td>1972</td>\n",
       "    </tr>\n",
       "    <tr>\n",
       "      <th>77354</th>\n",
       "      <td>Treasure Island</td>\n",
       "      <td>1950</td>\n",
       "    </tr>\n",
       "    <tr>\n",
       "      <th>141822</th>\n",
       "      <td>Treasure Island</td>\n",
       "      <td>1934</td>\n",
       "    </tr>\n",
       "    <tr>\n",
       "      <th>173051</th>\n",
       "      <td>Treasure Island</td>\n",
       "      <td>1985</td>\n",
       "    </tr>\n",
       "    <tr>\n",
       "      <th>196514</th>\n",
       "      <td>Treasure Island</td>\n",
       "      <td>1920</td>\n",
       "    </tr>\n",
       "  </tbody>\n",
       "</table>\n",
       "</div>"
      ],
      "text/plain": [
       "                  title  year\n",
       "27076   Treasure Island  1999\n",
       "37238   Treasure Island  1973\n",
       "55686   Treasure Island  1918\n",
       "65051   Treasure Island  1972\n",
       "77354   Treasure Island  1950\n",
       "141822  Treasure Island  1934\n",
       "173051  Treasure Island  1985\n",
       "196514  Treasure Island  1920"
      ]
     },
     "execution_count": 42,
     "metadata": {},
     "output_type": "execute_result"
    }
   ],
   "source": [
    "SecondMovie=titles[titles.title == \"Treasure Island\"][:10]\n",
    "SecondMovie"
   ]
  },
  {
   "cell_type": "code",
   "execution_count": 39,
   "metadata": {},
   "outputs": [
    {
     "data": {
      "text/plain": [
       "8"
      ]
     },
     "execution_count": 39,
     "metadata": {},
     "output_type": "execute_result"
    }
   ],
   "source": [
    "# titles.query('title == \"Treasure Island\"').title.count()"
   ]
  },
  {
   "cell_type": "markdown",
   "metadata": {},
   "source": [
    "__Q. How many movies were made in the year 1950?__"
   ]
  },
  {
   "cell_type": "code",
   "execution_count": 44,
   "metadata": {},
   "outputs": [
    {
     "data": {
      "text/plain": [
       "1113"
      ]
     },
     "execution_count": 44,
     "metadata": {},
     "output_type": "execute_result"
    }
   ],
   "source": [
    "titles.query('year == \"1950\"').year.count()"
   ]
  },
  {
   "cell_type": "markdown",
   "metadata": {},
   "source": [
    "__Q. How many movies were made in the year 1960?__"
   ]
  },
  {
   "cell_type": "code",
   "execution_count": 46,
   "metadata": {},
   "outputs": [
    {
     "data": {
      "text/plain": [
       "1549"
      ]
     },
     "execution_count": 46,
     "metadata": {},
     "output_type": "execute_result"
    }
   ],
   "source": [
    "titles.query('year == \"1960\"').year.count()"
   ]
  },
  {
   "cell_type": "markdown",
   "metadata": {},
   "source": [
    "__Q. How many movies were made from 1950 through 1959?__"
   ]
  },
  {
   "cell_type": "code",
   "execution_count": 57,
   "metadata": {},
   "outputs": [
    {
     "name": "stdout",
     "output_type": "stream",
     "text": [
      "1950 : 1113\n",
      "1951 : 1165\n",
      "1952 : 1159\n",
      "1953 : 1210\n",
      "1954 : 1235\n",
      "1955 : 1262\n",
      "1956 : 1341\n",
      "1957 : 1437\n",
      "1958 : 1497\n",
      "1959 : 1515\n",
      "Total movies were made from 1950 through 1959 is = 12934\n"
     ]
    }
   ],
   "source": [
    "t1=titles.query('year == \"1950\"').year.count()\n",
    "print(\"1950 :\",t1)\n",
    "t2=titles.query('year == \"1951\"').year.count()\n",
    "print(\"1951 :\",t2)\n",
    "t3=titles.query('year == \"1952\"').year.count()\n",
    "print(\"1952 :\",t3)\n",
    "t4=titles.query('year == \"1953\"').year.count()\n",
    "print(\"1953 :\",t4)\n",
    "t5=titles.query('year == \"1954\"').year.count()\n",
    "print(\"1954 :\",t5)\n",
    "t6=titles.query('year == \"1955\"').year.count()\n",
    "print(\"1955 :\",t6)\n",
    "t7=titles.query('year == \"1956\"').year.count()\n",
    "print(\"1956 :\",t7)\n",
    "t8=titles.query('year == \"1957\"').year.count()\n",
    "print(\"1957 :\",t8)\n",
    "t9=titles.query('year == \"1958\"').year.count()\n",
    "print(\"1958 :\",t9)\n",
    "t10=titles.query('year == \"1959\"').year.count()\n",
    "print(\"1959 :\",t10)\n",
    "\n",
    "result=t1+t2+t3+t4+t5+t6+t7+t8+t9+t10\n",
    "print(\"Total movies were made from 1950 through 1959 is =\", result)"
   ]
  },
  {
   "cell_type": "markdown",
   "metadata": {},
   "source": [
    "__Q. In what years has a movie titled \"Batman\" been released?__"
   ]
  },
  {
   "cell_type": "code",
   "execution_count": 58,
   "metadata": {},
   "outputs": [
    {
     "data": {
      "text/html": [
       "<div>\n",
       "<style scoped>\n",
       "    .dataframe tbody tr th:only-of-type {\n",
       "        vertical-align: middle;\n",
       "    }\n",
       "\n",
       "    .dataframe tbody tr th {\n",
       "        vertical-align: top;\n",
       "    }\n",
       "\n",
       "    .dataframe thead th {\n",
       "        text-align: right;\n",
       "    }\n",
       "</style>\n",
       "<table border=\"1\" class=\"dataframe\">\n",
       "  <thead>\n",
       "    <tr style=\"text-align: right;\">\n",
       "      <th></th>\n",
       "      <th>title</th>\n",
       "      <th>year</th>\n",
       "    </tr>\n",
       "  </thead>\n",
       "  <tbody>\n",
       "    <tr>\n",
       "      <th>39349</th>\n",
       "      <td>Batman</td>\n",
       "      <td>1943</td>\n",
       "    </tr>\n",
       "  </tbody>\n",
       "</table>\n",
       "</div>"
      ],
      "text/plain": [
       "        title  year\n",
       "39349  Batman  1943"
      ]
     },
     "execution_count": 58,
     "metadata": {},
     "output_type": "execute_result"
    }
   ],
   "source": [
    "Batman=titles[titles.title == \"Batman\"][:1]\n",
    "Batman"
   ]
  },
  {
   "cell_type": "markdown",
   "metadata": {},
   "source": [
    "__Q. How many roles were there in the movie \"Inception\"?__"
   ]
  },
  {
   "cell_type": "code",
   "execution_count": 62,
   "metadata": {},
   "outputs": [
    {
     "data": {
      "text/html": [
       "<div>\n",
       "<style scoped>\n",
       "    .dataframe tbody tr th:only-of-type {\n",
       "        vertical-align: middle;\n",
       "    }\n",
       "\n",
       "    .dataframe tbody tr th {\n",
       "        vertical-align: top;\n",
       "    }\n",
       "\n",
       "    .dataframe thead th {\n",
       "        text-align: right;\n",
       "    }\n",
       "</style>\n",
       "<table border=\"1\" class=\"dataframe\">\n",
       "  <thead>\n",
       "    <tr style=\"text-align: right;\">\n",
       "      <th></th>\n",
       "      <th>title</th>\n",
       "      <th>year</th>\n",
       "    </tr>\n",
       "  </thead>\n",
       "  <tbody>\n",
       "    <tr>\n",
       "      <th>183910</th>\n",
       "      <td>Inception</td>\n",
       "      <td>2010</td>\n",
       "    </tr>\n",
       "  </tbody>\n",
       "</table>\n",
       "</div>"
      ],
      "text/plain": [
       "            title  year\n",
       "183910  Inception  2010"
      ]
     },
     "execution_count": 62,
     "metadata": {},
     "output_type": "execute_result"
    }
   ],
   "source": [
    "Inception=titles[titles.title == \"Inception\"][:10]\n",
    "Inception"
   ]
  },
  {
   "cell_type": "code",
   "execution_count": 63,
   "metadata": {},
   "outputs": [
    {
     "data": {
      "text/plain": [
       "1"
      ]
     },
     "execution_count": 63,
     "metadata": {},
     "output_type": "execute_result"
    }
   ],
   "source": [
    "titles.query('title == \"Inception\"').title.count()"
   ]
  },
  {
   "cell_type": "code",
   "execution_count": null,
   "metadata": {},
   "outputs": [],
   "source": [
    "titles = pd.read_csv(r'/home/jagdeep/Desktop/LetsUpgrade/Dataset/cast.csv')\n",
    "titles.head()"
   ]
  }
 ],
 "metadata": {
  "kernelspec": {
   "display_name": "Python 3",
   "language": "python",
   "name": "python3"
  },
  "language_info": {
   "codemirror_mode": {
    "name": "ipython",
    "version": 3
   },
   "file_extension": ".py",
   "mimetype": "text/x-python",
   "name": "python",
   "nbconvert_exporter": "python",
   "pygments_lexer": "ipython3",
   "version": "3.7.6"
  }
 },
 "nbformat": 4,
 "nbformat_minor": 4
}
