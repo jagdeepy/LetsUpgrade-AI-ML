{
 "cells": [
  {
   "cell_type": "markdown",
   "metadata": {},
   "source": [
    "Q.1 Assuming that we have some email addresses in the \"username@companyname.com\" format, please write program to print the company name of a given email address. Both user names and company names are composed of letters only.\n",
    "Input Format:The first line of the input contains an email address.\n",
    "Output Format:Print the company name in single line.\n",
    "Example:-Input:\n",
    "john@google.com\n",
    "\n",
    "Output:google"
   ]
  },
  {
   "cell_type": "code",
   "execution_count": 1,
   "metadata": {},
   "outputs": [
    {
     "name": "stdout",
     "output_type": "stream",
     "text": [
      "Enter your email id :jagdeep@tcs.com\n",
      "Company Name : tcs\n"
     ]
    }
   ],
   "source": [
    "# s1=input(\"Enter your string :\")\n",
    "# c1=s1.index('@')\n",
    "# c2=s1.index('.')\n",
    "# print(s1[c1+1:c2])\n",
    "s2=input(\"Enter your email id :\")\n",
    "c3=s2.split('@')\n",
    "c4=c3[1].split('.')\n",
    "print('Company Name :',c4[0])"
   ]
  },
  {
   "cell_type": "markdown",
   "metadata": {},
   "source": [
    "Q.2 Write a program that accepts a comma-separated sequence of words as input and prints the words in a commaseparated sequence after sorting them alphabetically.\n",
    "\n",
    "Input Format:The first line of input contains words separated by the comma\n",
    "Output Format:Print the sorted words separated by the comma.\n",
    "Example:Input:without,hello,bag,world\n",
    "Output:bag,hello,without,world"
   ]
  },
  {
   "cell_type": "code",
   "execution_count": 6,
   "metadata": {},
   "outputs": [
    {
     "name": "stdout",
     "output_type": "stream",
     "text": [
      "['aim', 'deep', 'ocean', 'save', 'walk', 'zoo']\n"
     ]
    }
   ],
   "source": [
    "userip=['walk','save','aim','deep','ocean','zoo']\n",
    "userip.sort()\n",
    "print(userip)"
   ]
  },
  {
   "cell_type": "code",
   "execution_count": 9,
   "metadata": {},
   "outputs": [
    {
     "name": "stdout",
     "output_type": "stream",
     "text": [
      "Enter comma separated sequence of wordswalk,save,aim,deep,zoo,ocean\n",
      "Sorted result are : aim,deep,ocean,save,walk,zoo\n"
     ]
    }
   ],
   "source": [
    "#here program with user input\n",
    "myinput = input(\"Enter comma separated sequence of words\")\n",
    "a = [word for word in myinput.split(\",\")]\n",
    "print(\"Sorted result are :\",\",\".join(sorted(list(set(a)))))"
   ]
  },
  {
   "cell_type": "markdown",
   "metadata": {},
   "source": [
    "Q.3 Create your own Jupyter Notebook for Sets.\n",
    "Reference link: https://www.w3schools.com/python/python_sets.asp"
   ]
  },
  {
   "cell_type": "markdown",
   "metadata": {},
   "source": [
    "__Set-:\n",
    "A set is a collection which is unordered and unindexed. In Python sets are written with curly brackets.__"
   ]
  },
  {
   "cell_type": "code",
   "execution_count": 10,
   "metadata": {},
   "outputs": [
    {
     "name": "stdout",
     "output_type": "stream",
     "text": [
      "{'python', 'android', 'java'}\n"
     ]
    }
   ],
   "source": [
    "myset = {\"android\", \"java\", \"python\"}\n",
    "print(myset) \n",
    "\n",
    "## Note: the set list is unordered, meaning: the items will appear in a random order."
   ]
  },
  {
   "cell_type": "code",
   "execution_count": 12,
   "metadata": {},
   "outputs": [
    {
     "name": "stdout",
     "output_type": "stream",
     "text": [
      "python\n",
      "android\n",
      "java\n"
     ]
    }
   ],
   "source": [
    "#Accessing items\n",
    "for x in myset:\n",
    "  print(x) "
   ]
  },
  {
   "cell_type": "code",
   "execution_count": 13,
   "metadata": {},
   "outputs": [
    {
     "name": "stdout",
     "output_type": "stream",
     "text": [
      "True\n"
     ]
    }
   ],
   "source": [
    "print(\"python\" in myset)"
   ]
  },
  {
   "cell_type": "code",
   "execution_count": 15,
   "metadata": {},
   "outputs": [
    {
     "name": "stdout",
     "output_type": "stream",
     "text": [
      "{'python', 'orange', 'android', 'java', 'php'}\n"
     ]
    }
   ],
   "source": [
    "#Adding an item to set, using the add() method\n",
    "myset.add(\"orange\")\n",
    "myset.add(\"php\")\n",
    "\n",
    "print(myset) "
   ]
  },
  {
   "cell_type": "code",
   "execution_count": 16,
   "metadata": {},
   "outputs": [
    {
     "name": "stdout",
     "output_type": "stream",
     "text": [
      "{'python', 'orange', 'Ruby', 'SQL', 'android', 'java', '.Net', 'php', 'C'}\n"
     ]
    }
   ],
   "source": [
    "#To add multiple item to set , use update() method\n",
    "myset.update([\"SQL\",\".Net\",\"Ruby\",\"C\"])\n",
    "print(myset)"
   ]
  },
  {
   "cell_type": "code",
   "execution_count": 18,
   "metadata": {},
   "outputs": [
    {
     "name": "stdout",
     "output_type": "stream",
     "text": [
      "9\n"
     ]
    }
   ],
   "source": [
    "#Now get the length of set\n",
    "print(len(myset))"
   ]
  },
  {
   "cell_type": "code",
   "execution_count": 19,
   "metadata": {},
   "outputs": [
    {
     "name": "stdout",
     "output_type": "stream",
     "text": [
      "{'python', 'Ruby', 'SQL', 'android', 'java', '.Net', 'php', 'C'}\n"
     ]
    }
   ],
   "source": [
    "#To remove item from set use , remove() and discard() method\n",
    "myset.remove(\"orange\")\n",
    "print(myset)"
   ]
  },
  {
   "cell_type": "code",
   "execution_count": 20,
   "metadata": {},
   "outputs": [
    {
     "name": "stdout",
     "output_type": "stream",
     "text": [
      "python\n",
      "{'Ruby', 'SQL', 'android', 'java', '.Net', 'php', 'C'}\n"
     ]
    }
   ],
   "source": [
    "#To remove last item using pop() method\n",
    "x = myset.pop()\n",
    "print(x)\n",
    "print(myset) "
   ]
  },
  {
   "cell_type": "code",
   "execution_count": 21,
   "metadata": {},
   "outputs": [
    {
     "name": "stdout",
     "output_type": "stream",
     "text": [
      "set()\n"
     ]
    }
   ],
   "source": [
    "#clear method empty the set\n",
    "newset = {\"air\", \"book\", \"pen\"}\n",
    "\n",
    "newset.clear()\n",
    "\n",
    "print(newset) "
   ]
  },
  {
   "cell_type": "code",
   "execution_count": 23,
   "metadata": {},
   "outputs": [
    {
     "ename": "NameError",
     "evalue": "name 'newset' is not defined",
     "output_type": "error",
     "traceback": [
      "\u001b[0;31m---------------------------------------------------------------------------\u001b[0m",
      "\u001b[0;31mNameError\u001b[0m                                 Traceback (most recent call last)",
      "\u001b[0;32m<ipython-input-23-154aac7b3b36>\u001b[0m in \u001b[0;36m<module>\u001b[0;34m\u001b[0m\n\u001b[1;32m      4\u001b[0m \u001b[0;32mdel\u001b[0m \u001b[0mnewset\u001b[0m\u001b[0;34m\u001b[0m\u001b[0;34m\u001b[0m\u001b[0m\n\u001b[1;32m      5\u001b[0m \u001b[0;34m\u001b[0m\u001b[0m\n\u001b[0;32m----> 6\u001b[0;31m \u001b[0mprint\u001b[0m\u001b[0;34m(\u001b[0m\u001b[0mnewset\u001b[0m\u001b[0;34m)\u001b[0m\u001b[0;34m\u001b[0m\u001b[0;34m\u001b[0m\u001b[0m\n\u001b[0m",
      "\u001b[0;31mNameError\u001b[0m: name 'newset' is not defined"
     ]
    }
   ],
   "source": [
    "# Delete set, delete the set completely, del() method\n",
    "newset = {\"apple\", \"banana\", \"cherry\"}\n",
    "\n",
    "del newset\n",
    "\n",
    "print(newset) \n",
    "\n",
    " #this will raise an error because the set no longer exists"
   ]
  },
  {
   "cell_type": "code",
   "execution_count": 24,
   "metadata": {},
   "outputs": [
    {
     "name": "stdout",
     "output_type": "stream",
     "text": [
      "{1, 'c', 'b', 2, 3, 'a'}\n"
     ]
    }
   ],
   "source": [
    "# The union() method , add a new set with all items from both sets:\n",
    "set1 = {\"a\", \"b\" , \"c\"}\n",
    "set2 = {1, 2, 3}\n",
    "\n",
    "set3 = set1.union(set2)\n",
    "print(set3) "
   ]
  },
  {
   "cell_type": "code",
   "execution_count": 26,
   "metadata": {},
   "outputs": [
    {
     "name": "stdout",
     "output_type": "stream",
     "text": [
      "{1, 'c', 'b', 2, 3, 'a'}\n"
     ]
    }
   ],
   "source": [
    "# The update() method inserts the items in set2 into set1:\n",
    "set1 = {\"a\", \"b\" , \"c\"}\n",
    "set2 = {1, 2, 3}\n",
    "\n",
    "set1.update(set2)\n",
    "print(set1) "
   ]
  },
  {
   "cell_type": "markdown",
   "metadata": {},
   "source": [
    "Q.1 Given a list of n-1 numbers ranging from 1 to n, your task is to find the missing number. There are no duplicates.\n",
    "\n",
    "Input Format:The first line contains n-1 numbers with each number separated by a space.Output Format:Print the missing numberExample:Input:1 2 4 6 3 7 8Output:5"
   ]
  },
  {
   "cell_type": "code",
   "execution_count": 30,
   "metadata": {},
   "outputs": [
    {
     "name": "stdout",
     "output_type": "stream",
     "text": [
      "Enter the n: 10\n",
      "Number the input: 1\n",
      "Number the input: 2\n",
      "Number the input: 3\n",
      "Number the input: 5\n",
      "Number the input: 6\n",
      "Number the input: 7\n",
      "Number the input: 8\n",
      "Number the input: 9\n",
      "Number the input: 10\n",
      "Missing number: 4\n"
     ]
    }
   ],
   "source": [
    "a = int(input('Enter the n: '))\n",
    "N_sum = a*(a+1)/2\n",
    "\n",
    "temp_sum = 0\n",
    "\n",
    "for i in range(0,a-1):\n",
    "    temp = int(input('Number the input: '))\n",
    "    temp_sum = temp_sum + temp\n",
    "\n",
    "print('Missing number: %d' %(N_sum-temp_sum))"
   ]
  },
  {
   "cell_type": "markdown",
   "metadata": {},
   "source": [
    "Q.5 With a given list L, write a program to print this list L after removing all duplicate values with original order reserved.\n",
    "\n",
    "Example:If the input list is12 24 35 24 88 120 155 88 120 155Then the output should be12 24 35 88 120 155"
   ]
  },
  {
   "cell_type": "code",
   "execution_count": 34,
   "metadata": {},
   "outputs": [
    {
     "name": "stdout",
     "output_type": "stream",
     "text": [
      "10,20,30,20,10,50,60,40,80,50,40\n",
      "{'80', '30', '50', '60', '10', '40', '20'}\n"
     ]
    }
   ],
   "source": [
    "a1 = input()\n",
    "a=[b for b in a1.split(\",\")]\n",
    "dup_items = set()\n",
    "uniq_items = []\n",
    "for x in a:\n",
    "    if x not in dup_items:\n",
    "        uniq_items.append(x)\n",
    "        dup_items.add(x)\n",
    "\n",
    "print(dup_items)\n"
   ]
  }
 ],
 "metadata": {
  "kernelspec": {
   "display_name": "Python 3",
   "language": "python",
   "name": "python3"
  },
  "language_info": {
   "codemirror_mode": {
    "name": "ipython",
    "version": 3
   },
   "file_extension": ".py",
   "mimetype": "text/x-python",
   "name": "python",
   "nbconvert_exporter": "python",
   "pygments_lexer": "ipython3",
   "version": "3.7.6"
  }
 },
 "nbformat": 4,
 "nbformat_minor": 4
}
