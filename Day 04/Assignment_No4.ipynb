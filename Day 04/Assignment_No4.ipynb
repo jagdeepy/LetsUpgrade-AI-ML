{
 "cells": [
  {
   "cell_type": "markdown",
   "metadata": {},
   "source": [
    "Q.1 Research on whether addition, subtraction, multiplication, division, floor division and modulooperations be performed on complex numbers. Based on your study, implement a Pythonprogram to demonstrate these operations."
   ]
  },
  {
   "cell_type": "code",
   "execution_count": 3,
   "metadata": {},
   "outputs": [
    {
     "data": {
      "text/plain": [
       "(2+4j)"
      ]
     },
     "execution_count": 3,
     "metadata": {},
     "output_type": "execute_result"
    }
   ],
   "source": [
    "#PEMDAS\n",
    "a=4+8j\n",
    "b=2+4j\n",
    "c=a-b\n",
    "c"
   ]
  },
  {
   "cell_type": "code",
   "execution_count": 5,
   "metadata": {},
   "outputs": [
    {
     "data": {
      "text/plain": [
       "23.0"
      ]
     },
     "execution_count": 5,
     "metadata": {},
     "output_type": "execute_result"
    }
   ],
   "source": [
    "2*(2+4)+4-2/2+(2**3)"
   ]
  },
  {
   "cell_type": "code",
   "execution_count": 7,
   "metadata": {},
   "outputs": [
    {
     "data": {
      "text/plain": [
       "(34+6j)"
      ]
     },
     "execution_count": 7,
     "metadata": {},
     "output_type": "execute_result"
    }
   ],
   "source": [
    "20%2+(4*2)+(16+4j-8+2j)+4/2+4**2"
   ]
  },
  {
   "cell_type": "code",
   "execution_count": 22,
   "metadata": {},
   "outputs": [
    {
     "data": {
      "text/plain": [
       "(8+6j)"
      ]
     },
     "execution_count": 22,
     "metadata": {},
     "output_type": "execute_result"
    }
   ],
   "source": [
    "(16+4j-8+2j)"
   ]
  },
  {
   "cell_type": "markdown",
   "metadata": {},
   "source": [
    "Q.2 Research on range() functions and its parameters. Create a markdown cell and write in your ownwords (no copy-paste from google please) what you understand about it. Implement a smallprogram of your choice on the same\n",
    " \n",
    "__Syntax__ for range():\n",
    "\n",
    "range([start], stop, [step])\n",
    "\n",
    "__Example__\n",
    "\n",
    "range(10) will generate 0,1,2,3,4,5,6,7,8,9\n",
    "\n",
    "range(1,10) will generate 1,2,3,4,5,6,7,8,9\n",
    "\n",
    "range(10,21,2) will generate 10,12,14,16,18,20"
   ]
  },
  {
   "cell_type": "code",
   "execution_count": 31,
   "metadata": {},
   "outputs": [
    {
     "name": "stdout",
     "output_type": "stream",
     "text": [
      "0, 1, 2, 3, 4, 5, 6, 7, 8, 9, 10, 11, 12, 13, 14, 15, 16, 17, 18, 19, 20, 21, 22, 23, 24, 25, 26, 27, 28, 29, 30, 31, 32, 33, 34, 35, 36, 37, 38, 39, 40, 41, 42, 43, 44, 45, 46, 47, 48, 49, 50, 51, 52, 53, 54, 55, 56, 57, 58, 59, 60, 61, 62, 63, 64, 65, 66, 67, 68, 69, 70, 71, 72, 73, 74, 75, 76, 77, 78, 79, 80, 81, 82, 83, 84, 85, 86, 87, 88, 89, 90, 91, 92, 93, 94, 95, 96, 97, 98, 99, "
     ]
    }
   ],
   "source": [
    "#print number from 0 to 100\n",
    "for num in range(100):\n",
    "    print(num, end=', ')\n",
    "#for printing output in same line we use \"end=','\""
   ]
  },
  {
   "cell_type": "code",
   "execution_count": 34,
   "metadata": {},
   "outputs": [
    {
     "name": "stdout",
     "output_type": "stream",
     "text": [
      "1,2,3,4,"
     ]
    }
   ],
   "source": [
    "x=range(1,5)\n",
    "for num in x:\n",
    "    print(num,end=',')"
   ]
  },
  {
   "cell_type": "code",
   "execution_count": 26,
   "metadata": {},
   "outputs": [
    {
     "name": "stdout",
     "output_type": "stream",
     "text": [
      "0\n",
      "1\n",
      "2\n",
      "3\n",
      "4\n"
     ]
    }
   ],
   "source": [
    "x=range(5)\n",
    "for num in x:\n",
    "    print(num)"
   ]
  },
  {
   "cell_type": "code",
   "execution_count": 32,
   "metadata": {},
   "outputs": [
    {
     "name": "stdout",
     "output_type": "stream",
     "text": [
      "10, 15, 20, 25, 30, 35, 40, 45, 50, 55, 60, 65, 70, 75, 80, 85, 90, 95, 100, "
     ]
    }
   ],
   "source": [
    "x=range(10,105,5)\n",
    "for num in x:\n",
    "    print(num,end=', ')"
   ]
  },
  {
   "cell_type": "markdown",
   "metadata": {},
   "source": [
    "Q.3 Consider two numbers. Perform their subtraction and if the result of subtraction is greater than25, print their multiplication result else print their division result."
   ]
  },
  {
   "cell_type": "code",
   "execution_count": 36,
   "metadata": {},
   "outputs": [
    {
     "name": "stdout",
     "output_type": "stream",
     "text": [
      "Multiplication of Number : 1000\n"
     ]
    }
   ],
   "source": [
    "a=50\n",
    "b=20\n",
    "c=a-b\n",
    "if c>25:\n",
    "    print(\"Multiplication of Number :\",a*b)\n",
    "else:\n",
    "    print(\"Division of Number :\",a/b)"
   ]
  },
  {
   "cell_type": "code",
   "execution_count": 37,
   "metadata": {},
   "outputs": [
    {
     "name": "stdout",
     "output_type": "stream",
     "text": [
      "Division of Number : 2.0\n"
     ]
    }
   ],
   "source": [
    "a=40\n",
    "b=20\n",
    "c=a-b\n",
    "if c>25:\n",
    "    print(\"Multiplication of Number :\",a*b)\n",
    "else:\n",
    "    print(\"Division of Number :\",a/b)"
   ]
  },
  {
   "cell_type": "markdown",
   "metadata": {},
   "source": [
    "Q.4 Consider a list of 10 elements of integer values. If the number in the list is divisible by 2, print the result as \"square of that number minus 2\"."
   ]
  },
  {
   "cell_type": "code",
   "execution_count": 45,
   "metadata": {},
   "outputs": [
    {
     "name": "stdout",
     "output_type": "stream",
     "text": [
      "Numbers not divisble by 2 are : 1, Numbers divisble by 2 are : 2\n",
      "Numbers not divisble by 2 are : 3, Numbers divisble by 2 are : 14\n",
      "Numbers not divisble by 2 are : 5, Numbers divisble by 2 are : 34\n",
      "Numbers not divisble by 2 are : 7, Numbers divisble by 2 are : 62\n",
      "Numbers not divisble by 2 are : 9, Numbers divisble by 2 are : 98\n"
     ]
    }
   ],
   "source": [
    "l=[1,2,3,4,5,6,7,8,9,10]\n",
    "for num in l:\n",
    "    if num%2==0:\n",
    "        print(\"Numbers divisble by 2 are :\",num**2-2)\n",
    "    else:\n",
    "        print(\"Numbers not divisble by 2 are :\",num,end=', ')"
   ]
  },
  {
   "cell_type": "markdown",
   "metadata": {},
   "source": [
    "Q.5 Consider a list of 10 elements. Print all the elements in the list which are greater than 7 when that number is divided 2."
   ]
  },
  {
   "cell_type": "code",
   "execution_count": 63,
   "metadata": {},
   "outputs": [
    {
     "name": "stdout",
     "output_type": "stream",
     "text": [
      "Numbers < 7 when that number is divided 2 are : 10\n",
      "Numbers < 7 when that number is divided 2 are : 11\n",
      "Numbers < 7 when that number is divided 2 are : 12\n",
      "Numbers < 7 when that number is divided 2 are : 13\n",
      "Numbers < 7 when that number is divided 2 are : 14\n",
      "Numbers > 7 when that number is divided 2 are : 15\n",
      "Numbers > 7 when that number is divided 2 are : 16\n",
      "Numbers > 7 when that number is divided 2 are : 17\n",
      "Numbers > 7 when that number is divided 2 are : 18\n",
      "Numbers > 7 when that number is divided 2 are : 19\n",
      "Numbers > 7 when that number is divided 2 are : 20\n"
     ]
    }
   ],
   "source": [
    "l=[10,11,12,13,14,15,16,17,18,19,20]\n",
    "for num in l:\n",
    "    if num/2>7: \n",
    "        print(\"Numbers > 7 when that number is divided 2 are :\",num)\n",
    "    else:\n",
    "        print(\"Numbers < 7 when that number is divided 2 are :\",num)"
   ]
  }
 ],
 "metadata": {
  "kernelspec": {
   "display_name": "Python 3",
   "language": "python",
   "name": "python3"
  },
  "language_info": {
   "codemirror_mode": {
    "name": "ipython",
    "version": 3
   },
   "file_extension": ".py",
   "mimetype": "text/x-python",
   "name": "python",
   "nbconvert_exporter": "python",
   "pygments_lexer": "ipython3",
   "version": "3.7.6"
  }
 },
 "nbformat": 4,
 "nbformat_minor": 4
}
