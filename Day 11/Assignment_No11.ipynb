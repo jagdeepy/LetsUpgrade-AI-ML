{
 "cells": [
  {
   "cell_type": "markdown",
   "metadata": {},
   "source": [
    "                             Correlation Cofficient\n",
    "                    Show Strength & Direction of Correlation"
   ]
  },
  {
   "cell_type": "markdown",
   "metadata": {},
   "source": [
    "__Strong     <-------                                Weak                             ------>   Strong__\n",
    "  \n",
    "  \n",
    "  \n",
    "  \n",
    "  -1.0                    -0.5                       0.0                    +0.5                +1.0\n",
    "\n",
    "\n",
    "\n",
    "\n",
    "                      __Negative                    Zero                  Positive__\n",
    "                     __Correlation                                       Correlation__"
   ]
  },
  {
   "cell_type": "markdown",
   "metadata": {},
   "source": [
    "__Step 1: Hypothesis Formulation__\n",
    "\n",
    "__Step 2: Select the appropriate test__\n",
    "\n",
    "Two tail test if it has eqaul (=) sign and\n",
    "if it is greater(>) sign or less(<) sign then one tail test"
   ]
  },
  {
   "cell_type": "markdown",
   "metadata": {},
   "source": [
    "__Null Hypothesis is always negaitve statement= H0__\n",
    "\n",
    "H0= There is No significance and correlation between attrition and duration\n",
    "\n",
    "H1= Theres is significance and correlation between attrition and duration"
   ]
  },
  {
   "cell_type": "markdown",
   "metadata": {},
   "source": [
    "When population given then w-test applied\n",
    "\n",
    "When no population only sample given then t-test applied"
   ]
  },
  {
   "cell_type": "markdown",
   "metadata": {},
   "source": [
    "__Karl Pearson Correlation Method:__ The correlation between induction classes and satisfaction with training  period. X = Induction classes, Y = Satisfaction with training period. \n",
    "\n",
    "__H0:__ There is no relation between Induction classes and satisfaction with training period. \n",
    "\n",
    "__H1:__ There is relation between Induction classes and satisfaction with training perio"
   ]
  },
  {
   "cell_type": "code",
   "execution_count": 2,
   "metadata": {},
   "outputs": [],
   "source": [
    "#                             Table 1.0\n",
    "\n",
    "# X               Y         XY            X²                Y² \n",
    "# 65              52       3380          4225              2704 \n",
    "# 27              24        648           729               576 \n",
    "# 04              06         24            16                36 \n",
    "# 04              17         68            16               289 \n",
    "# ΣX = 100    ΣY = 100   ΣXY = 4120    ΣX² = 4986       ΣY² = 3605"
   ]
  },
  {
   "cell_type": "markdown",
   "metadata": {},
   "source": [
    "By using formula :\n",
    "\n",
    "r=\n",
    "\n",
    "          N∑xy – (∑x) (∑y)\n",
    "          _________________\n",
    "       = \n",
    "         √[N∑x−(∑)2][N∑y−(∑)2\n",
    "        \n",
    "              6480\n",
    "           ___________\n",
    "        =\n",
    "            √43952480 \n",
    "            \n",
    "   r    = 0.97\n",
    "   "
   ]
  },
  {
   "cell_type": "markdown",
   "metadata": {},
   "source": [
    "__Interpretation__: it  is inferred that the correlation is highly positive as the value (x, y) lies between 0 & 1. from the  result, \n",
    "there is a strong positive correlation between induction classes and satisfaction with training period. __So H0 is rejected.__ \n",
    " \n",
    "__T-Test__ \n",
    "For testing the significance of Karl Pearson rank coefficient we have to do t-test. If the resulted value is greater than 2 then \n",
    "the value of ‘r‘ is significant. If not then there is no significance of rank correlation.  "
   ]
  },
  {
   "cell_type": "markdown",
   "metadata": {},
   "source": [
    "                            r   (√N − 1)\n",
    "             t =               ____________\n",
    "                            \n",
    "                             √(1 − r 2) \n",
    "                             \n",
    "                            0.97(√100-1)\n",
    "               =       _________________\n",
    "                         \n",
    "                          √(1-(0.97*0.97))\n",
    "                          \n",
    "                           9.6514  \n",
    "               =          __________\n",
    "                          \n",
    "                           0.2431\n",
    "                           \n",
    "      t        =          39.70 \n",
    "      \n",
    "Interpretation \n",
    "Here‘t’ value is greater than 2 hence there is significant between the variables induction classes and satisfaction with training \n",
    "period. \n",
    " \n",
    "Weighted Average: employees’ feedback on the various aspects of the training programme "
   ]
  },
  {
   "cell_type": "markdown",
   "metadata": {},
   "source": [
    "__Strongly Agree       = 4 \n",
    "Somewhat Agree         = 3 \n",
    "Not agree              = 2 \n",
    "Average                = 1__ \n",
    "\n",
    "__Interpretation:__ From the above weighted averaged table it has been inferred that the majority of the respondents have given \n",
    "first preference to the Induction Classes at the Time of Joining, the second preference is given to Spirit of Cooperation among \n",
    "Staff, whereas the third preference is given to Satisfaction with training period.   "
   ]
  },
  {
   "cell_type": "markdown",
   "metadata": {},
   "source": [
    "__Chi Square Test:__ \n",
    "H0:There is no significant relationship between experience and employees satisfaction. \n",
    "H1:There is significant relationship between experience and employees satisfaction\n",
    "\n",
    "__Calculation__   \n",
    "The formula for calculating the trishul2 value is  \n",
    "                           trishul2 = apslon((O-E) 2/E)   \n",
    "Where,   O is the observed value. E is the expected value. \n",
    " \n",
    "__Degrees of Freedom:__ Degree of freedom in distribution is number of observation or values that are independent of each \n",
    "other and cannot be detected from each other.  \n",
    " At 5% level of significance \n",
    "Tabular Value = 9.49 \n",
    "Degrees of Freedom=(r-1) (c-1) \n",
    "                  = (3-1) (3-1) \n",
    "                  = 4  \n",
    "__Result:__ Since the calculated value is greater than tabulated value we accept alternative hypothesis. We reject H0. i.e. H1 so \n",
    "there is significant relationship between the experience and satisfaction level of training program conducted in company. \n",
    "\n",
    "__Attrition Rate :__\n",
    "    \n",
    "Attrition Rate = ⟨Number of Attritions∗100|Actual employees + New Joined|100⟩ \n",
    " \n",
    "Percentage of Attrition Rate of ARBL = ((48*100)/(750+26)) \n",
    "             = (4800/776) \n",
    "             = 6.1%  "
   ]
  }
 ],
 "metadata": {
  "kernelspec": {
   "display_name": "Python 3",
   "language": "python",
   "name": "python3"
  },
  "language_info": {
   "codemirror_mode": {
    "name": "ipython",
    "version": 3
   },
   "file_extension": ".py",
   "mimetype": "text/x-python",
   "name": "python",
   "nbconvert_exporter": "python",
   "pygments_lexer": "ipython3",
   "version": "3.7.6"
  }
 },
 "nbformat": 4,
 "nbformat_minor": 4
}
