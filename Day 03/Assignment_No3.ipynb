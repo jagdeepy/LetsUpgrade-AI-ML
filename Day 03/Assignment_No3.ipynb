{
 "cells": [
  {
   "cell_type": "markdown",
   "metadata": {},
   "source": [
    "Q.1 Write a program to subtract two complex numbers in Python."
   ]
  },
  {
   "cell_type": "code",
   "execution_count": 6,
   "metadata": {},
   "outputs": [
    {
     "name": "stdout",
     "output_type": "stream",
     "text": [
      "Subtraction is: (2+2j)\n"
     ]
    }
   ],
   "source": [
    "def subCompNo(x1,x2):\n",
    "    return x1-x2\n",
    "x1=complex(4,6)\n",
    "x2=complex(2,4)\n",
    "print(\"Subtraction is:\", subCompNo(x1,x2))"
   ]
  },
  {
   "cell_type": "markdown",
   "metadata": {},
   "source": [
    "Q.2 Write a program to find the fourth root of a number."
   ]
  },
  {
   "cell_type": "code",
   "execution_count": 16,
   "metadata": {},
   "outputs": [
    {
     "name": "stdout",
     "output_type": "stream",
     "text": [
      "Enter Number :10\n",
      "Enter the times you had to take root :4\n",
      "1.7782794100389228\n"
     ]
    }
   ],
   "source": [
    "num=int(input(\"Enter Number :\"))\n",
    "\n",
    "root=int(input(\"Enter the times you had to take root :\"))\n",
    "\n",
    "ans=num**(1/root)\n",
    "\n",
    "print(ans)"
   ]
  },
  {
   "cell_type": "markdown",
   "metadata": {},
   "source": [
    "Q.3 Write a program to swap two numbers in Python with the help of a temporary variable."
   ]
  },
  {
   "cell_type": "code",
   "execution_count": 23,
   "metadata": {},
   "outputs": [
    {
     "name": "stdout",
     "output_type": "stream",
     "text": [
      "Enter 1st no: 40\n",
      "Enter 2nd no: 10\n",
      "The value of a after swapping: 10\n",
      "The value of b after swapping: 40\n"
     ]
    }
   ],
   "source": [
    "#Example\n",
    "#a = 5\n",
    "#b = 10\n",
    "\n",
    "a = input('Enter 1st no: ')\n",
    "b = input('Enter 2nd no: ')\n",
    "\n",
    "# create a temporary variable and swap the values\n",
    "temp = a\n",
    "a = b\n",
    "b = temp\n",
    "\n",
    "print('The value of a after swapping: {}'.format(a))\n",
    "print('The value of b after swapping: {}'.format(b))"
   ]
  },
  {
   "cell_type": "markdown",
   "metadata": {},
   "source": [
    "Q.4 Write a program to swap two numbers in Python without using a temporary variable."
   ]
  },
  {
   "cell_type": "code",
   "execution_count": 27,
   "metadata": {},
   "outputs": [
    {
     "name": "stdout",
     "output_type": "stream",
     "text": [
      "Enter first number: 2\n",
      "Enter second number: 3\n",
      "Old value of x is 2 and y is 3\n",
      "New value of x is 3 and y is 2\n"
     ]
    }
   ],
   "source": [
    "x = int(input(\"Enter first number: \"))\n",
    "y = int(input(\"Enter second number: \"))\n",
    "\n",
    "print('Old value of x is {0} and y is {1}'.format(x, y))\n",
    "\n",
    "x = x + y\n",
    "y = x - y\n",
    "x = x - y\n",
    "\n",
    "# Display the result\n",
    "print('New value of x is {0} and y is {1}'.format(x, y))"
   ]
  },
  {
   "cell_type": "markdown",
   "metadata": {},
   "source": [
    "Q.5 Write a program to convert fahrenheit to kelvin and celsius both."
   ]
  },
  {
   "cell_type": "code",
   "execution_count": 29,
   "metadata": {},
   "outputs": [
    {
     "name": "stdout",
     "output_type": "stream",
     "text": [
      "Temperature in Kelvin ( K ) = 311.278\n",
      "Temperature in Celsius ( C ) =  37.77777777777778\n"
     ]
    }
   ],
   "source": [
    "# Fahrenheit to Kelvin \n",
    "  \n",
    "# Function to convert temperature \n",
    "def Fahrenheit_to_Kelvin(F): \n",
    "    return 273.5 + ((F - 32.0) * (5.0/9.0)) \n",
    "  \n",
    "# Driver function \n",
    "F = 100\n",
    "print(\"Temperature in Kelvin ( K ) = {:.3f}\" \n",
    "            .format(Fahrenheit_to_Kelvin( F ))) \n",
    "\n",
    "# Fahrenheit to Celsius\n",
    "def Fahrenheit_to_Celsius(F): \n",
    "    return (F -32) * 5/9 \n",
    "   \n",
    "F = 100\n",
    "  \n",
    "print(\"Temperature in Celsius ( C ) = \",  \n",
    "                    Fahrenheit_to_Celsius(F)) "
   ]
  },
  {
   "cell_type": "markdown",
   "metadata": {},
   "source": [
    "Q.6 Write a program to demonstrate all the available data types in Python. Hint: Use type() function."
   ]
  },
  {
   "cell_type": "code",
   "execution_count": 37,
   "metadata": {},
   "outputs": [
    {
     "name": "stdout",
     "output_type": "stream",
     "text": [
      "Type of a:  <class 'int'>\n",
      "\n",
      "Type of b:  <class 'float'>\n",
      "\n",
      "Type of c:  <class 'complex'>\n",
      "\n",
      "Type of str1:  <class 'str'>\n",
      "['Welcome', 'here', 'today']\n",
      "\n",
      "Type of list:  <class 'list'>\n",
      "('Welocme', 'to', 'python')\n",
      "\n",
      "Type of tuple:  <class 'tuple'>\n",
      "{1: 'Welcome', 2: 'to', 3: 'python'}\n",
      "\n",
      "Type of dictonary:  <class 'dict'>\n"
     ]
    }
   ],
   "source": [
    "#There are 5 data types in python:\n",
    "#Numbers.\n",
    "a = 5\n",
    "print(\"Type of a: \", type(a)) \n",
    "b = 5.0\n",
    "print(\"\\nType of b: \", type(b)) \n",
    "c = 2 + 4j\n",
    "print(\"\\nType of c: \", type(c)) \n",
    "\n",
    "#String.\n",
    "str1 = \"Welcome here\"\n",
    "print(\"\\nType of str1: \", type(str1)) \n",
    "  \n",
    "#List.\n",
    "List = [\"Welcome\",\"here\",\"today\"]  \n",
    "print(List)  \n",
    "print(\"\\nType of list: \", type(List)) \n",
    "\n",
    "#Tuple.\n",
    "Tuple1 = (\"Welocme\",\"to\",\"python\")  \n",
    "print(Tuple1)  \n",
    "print(\"\\nType of tuple: \", type(Tuple1)) \n",
    "\n",
    "#Dictionary.\n",
    "Dict = {1: 'Welcome', 2: 'to', 3: 'python'}  \n",
    "print(Dict)  \n",
    "print(\"\\nType of dictonary: \", type(Dict)) "
   ]
  },
  {
   "cell_type": "markdown",
   "metadata": {},
   "source": [
    "Q.7 Create a Markdown cell in jupyter and list the steps discussed in the session by Dr. Darshan\n",
    "Ingle sir to create Github profile and upload Githubs Assignment link."
   ]
  },
  {
   "cell_type": "markdown",
   "metadata": {},
   "source": [
    "Step 1: First go to github site, create your profile after creating your profile create new repository--> repository name is LetsUpgrade-AI_ML and upload the file i.e your assignment which you have saved in jupyter notebook.\n",
    "Step 2: After saving your file to github, copy the assignment github link and open the assignment submission google form of letsupgrade and fill all the details correctly and last there is link text--> paste your github assignmnet link.\n",
    "Step 3: Submit the form.\n",
    "Thank you"
   ]
  }
 ],
 "metadata": {
  "kernelspec": {
   "display_name": "Python 3",
   "language": "python",
   "name": "python3"
  },
  "language_info": {
   "codemirror_mode": {
    "name": "ipython",
    "version": 3
   },
   "file_extension": ".py",
   "mimetype": "text/x-python",
   "name": "python",
   "nbconvert_exporter": "python",
   "pygments_lexer": "ipython3",
   "version": "3.7.6"
  }
 },
 "nbformat": 4,
 "nbformat_minor": 4
}
