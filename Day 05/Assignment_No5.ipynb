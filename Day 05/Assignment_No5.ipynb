{
 "cells": [
  {
   "cell_type": "markdown",
   "metadata": {},
   "source": [
    "Q.1 Write a Python program to find the first 20 non-even prime natural numbers."
   ]
  },
  {
   "cell_type": "code",
   "execution_count": 11,
   "metadata": {},
   "outputs": [
    {
     "name": "stdout",
     "output_type": "stream",
     "text": [
      "Enter the Number :101\n",
      " 3   5   7   11   13   17   19   23   29   31   37   41   43   47   53   59   61   67   71   73   79   83   89   97  "
     ]
    }
   ],
   "source": [
    "num= int(input(\"Enter the Number :\"))\n",
    "for Number in range (1, num):\n",
    "    count = 0\n",
    "    for i in range(2, (Number//2 + 1)):\n",
    "        if(Number % i == 0):\n",
    "            count = count + 1\n",
    "            break\n",
    "\n",
    "    if (count == 0 and Number != 1):\n",
    "        if(Number%2==1):  #Here checking non-even number \n",
    "            print(\" %d\" %Number, end = '  ')"
   ]
  },
  {
   "cell_type": "markdown",
   "metadata": {},
   "source": [
    "Q.2 Write a Python program to implement 15 functions of string."
   ]
  },
  {
   "cell_type": "markdown",
   "metadata": {},
   "source": [
    "#Functions of String in python\n",
    "s=\"hello Letsupgrade AIML hello\"\n",
    "print(s.capitalize()) #convert initial alphabet to Capital\n",
    "print(s.casefold())   #convert alphabet to lowercase\n",
    "print(s.center(100))\n",
    "print(s.count(\"hello\")) #count number of time word repeat\n",
    "s1=\"Hi this is @im!\"\n",
    "print(s1.encode())\n",
    "print(s.endswith(\"hello\"))\n",
    "s3=\"h\\te\\tl\\tl\\to\"\n",
    "print(s3.expandtabs(4)) #set the tab size of the string\n",
    "print(s.find(\"AIML\"))\n",
    "print(s.index(\"hello\",2))\n",
    "s4=\"In MIS {percentage:.2f}% mark I got\"\n",
    "print(s4.format(percentage=81))\n",
    "print(s.isalnum())\n",
    "s5=\"AIML\"\n",
    "print(s5.isalpha())\n",
    "s6=\"456\"\n",
    "print(s6.isascii())\n",
    "print(s.isdecimal())\n",
    "print(s6.isdigit())\n",
    "s7=\"jagdeep\"\n",
    "print(s7.islower())"
   ]
  },
  {
   "cell_type": "markdown",
   "metadata": {},
   "source": [
    "Q.3 Write a Python program to check if the given string is a Palindrome or Anagram or None of them.Display the message accordingly to the user."
   ]
  },
  {
   "cell_type": "code",
   "execution_count": 76,
   "metadata": {},
   "outputs": [
    {
     "name": "stdout",
     "output_type": "stream",
     "text": [
      "True\n",
      "False\n"
     ]
    }
   ],
   "source": [
    "#program to check string is Anagram or not\n",
    "def checkAnagram(word1, word2):\n",
    "    listWord1 = list(word1)\n",
    "    listWord1.sort()\n",
    "    listWord2 = list(word2)\n",
    "    listWord2.sort()\n",
    "    return (listWord1 == listWord2)\n",
    "\n",
    "print(checkAnagram(\"silent\", \"listen\"))\n",
    "print(checkAnagram(\"silent\", \"listten\"))"
   ]
  },
  {
   "cell_type": "code",
   "execution_count": 79,
   "metadata": {},
   "outputs": [
    {
     "name": "stdout",
     "output_type": "stream",
     "text": [
      "Collecting pyenchant\n",
      "  Downloading pyenchant-3.1.1-py3-none-any.whl (55 kB)\n",
      "\u001b[K     |████████████████████████████████| 55 kB 52 kB/s  eta 0:00:01\n",
      "\u001b[?25hInstalling collected packages: pyenchant\n",
      "Successfully installed pyenchant-3.1.1\n",
      "Note: you may need to restart the kernel to use updated packages.\n"
     ]
    }
   ],
   "source": [
    "pip install pyenchant"
   ]
  },
  {
   "cell_type": "code",
   "execution_count": 2,
   "metadata": {},
   "outputs": [
    {
     "name": "stdout",
     "output_type": "stream",
     "text": [
      "True\n",
      "False\n"
     ]
    }
   ],
   "source": [
    "import enchant\n",
    "d = enchant.Dict(\"en_US\")\n",
    "print(d.check(\"Hello\"))\n",
    "\n",
    "print(d.check(\"Helo\"))"
   ]
  },
  {
   "cell_type": "code",
   "execution_count": 23,
   "metadata": {},
   "outputs": [
    {
     "name": "stdout",
     "output_type": "stream",
     "text": [
      "Enter the String :face\n",
      "Enter the String to check first string :cafe\n",
      "Strings are anagram of each other.\n"
     ]
    }
   ],
   "source": [
    "# string is a Palindrome or Anagram or None of them\n",
    "#An anagram is a rearrangement of the letters of a word to another word, using all the original letters exactly once.\n",
    "x = input(\"Enter the String :\")\n",
    "w = x[::-1]\n",
    "if(x==w):\n",
    "      print(\"The string is a palindrome\")\n",
    "        \n",
    "elif (x!=w):\n",
    "    \n",
    "    #a=input(\"Enter string 1:\")\n",
    "    new_w=input(\"Enter the String to check with first string :\")\n",
    "    count=0\n",
    "    for i in x:\n",
    "        for j in new_w:\n",
    "            if i==j:\n",
    "                count=count+1\n",
    "    if count==len(x):\n",
    "        print(\"Strings are anagram of each other.\")\n",
    "    else:\n",
    "        print(\"Strings are None of them.\")"
   ]
  },
  {
   "cell_type": "markdown",
   "metadata": {},
   "source": [
    "Q.4 Write a Python's user defined function that removes all the additional characters from the string and converts it finally to lower case using built-in lower(). eg: If the string is \"Dr. Darshan Ingle@AI-ML Trainer\", then the output be \"drdarshaningle aimltrainer\"."
   ]
  },
  {
   "cell_type": "code",
   "execution_count": 72,
   "metadata": {},
   "outputs": [
    {
     "name": "stdout",
     "output_type": "stream",
     "text": [
      "Output : drdarshaningle aimltrainer\n"
     ]
    }
   ],
   "source": [
    "# x=\"Dr. Darshan Ingle@AI-ML Trainer\"\n",
    "a = \"Dr. Darshan Ingle@AI-ML Trainer\"\n",
    "b = \". -\"\n",
    "for char in b:\n",
    "    a = a.replace(char,\"\")\n",
    "# print(a)\n",
    "c=\"@\"\n",
    "for ch in c:\n",
    "    a=a.replace(ch,\" \")\n",
    "print(\"Output :\",a.lower())"
   ]
  }
 ],
 "metadata": {
  "kernelspec": {
   "display_name": "Python 3",
   "language": "python",
   "name": "python3"
  },
  "language_info": {
   "codemirror_mode": {
    "name": "ipython",
    "version": 3
   },
   "file_extension": ".py",
   "mimetype": "text/x-python",
   "name": "python",
   "nbconvert_exporter": "python",
   "pygments_lexer": "ipython3",
   "version": "3.7.6"
  }
 },
 "nbformat": 4,
 "nbformat_minor": 4
}
