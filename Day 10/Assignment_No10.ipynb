{
 "cells": [
  {
   "cell_type": "markdown",
   "metadata": {},
   "source": [
    "__Hypothesis:__\n",
    "It is a methodlogy which is use to prove or dis-prove the statement with the help of __Statistical Analysis__"
   ]
  },
  {
   "cell_type": "markdown",
   "metadata": {},
   "source": [
    "Two types of Hypothesis:\n",
    "\n",
    "H0= Null Hypothesis\n",
    "\n",
    "H1= Alternative Hypothesis"
   ]
  },
  {
   "cell_type": "markdown",
   "metadata": {},
   "source": [
    "__Employee Attrition Hypothesis:__"
   ]
  },
  {
   "cell_type": "markdown",
   "metadata": {},
   "source": [
    "__Example: 1__\n",
    "- H0 = Employee age group between 31 to 35 will have high attrition comapre to other age group. (H0:mu = High)\n",
    "- H1 = Employee age group between 31 to 35 will have not high attrition comapre to other age group. (H1:mu != high)\n",
    "- level of significance alpha value (@) = 0.05"
   ]
  },
  {
   "cell_type": "markdown",
   "metadata": {},
   "source": [
    "__Example: 2__\n",
    "- H0 = Employee based on gender, male gender have more attrition. (H0: mu = 0)(Here we take 0-> for Male and 1-> Female)\n",
    "- H1 = Employee based on gender, male gender have not more attrition. (H1: mu != Male) "
   ]
  },
  {
   "cell_type": "markdown",
   "metadata": {},
   "source": [
    "__Example: 3__\n",
    "- H0 = Employee based on experiences, Employee who have more than 10 years experience in IT industry have high attrition. (H0:mu >= 10)\n",
    "- H1 = Employee based on experiences, Employee who have not more than 10 years experience in IT industry have high attrition. (H1:mu < 10)\n",
    "- alpha value =0.05"
   ]
  },
  {
   "cell_type": "markdown",
   "metadata": {},
   "source": [
    "__Example: 4__\n",
    "- H0 = Number of years Employee worked with this company(1 to 3 years). (H0: mu <= 3)\n",
    "- H1 = Number of years Employee not worked with this company(1 to 3 years) (H1: mu > 3)"
   ]
  },
  {
   "cell_type": "markdown",
   "metadata": {},
   "source": [
    "__Example: 5__\n",
    "- H0 = Employee shifted more than 1 number of jobs in the company. (H0: mu >= 1)\n",
    "- H1 = Employee shifted not more than 1 number of jobs in the company. (H1: mu != 1)"
   ]
  },
  {
   "cell_type": "markdown",
   "metadata": {},
   "source": [
    "__Example: *__\n",
    "- H0 = Customer satisfaction, Quality of work, Image of the company does not predict employee retention\n",
    "- H1 = At least one of the independent variable is a predcitor of employee retention\n",
    "- Level of Significance alpha=0.05"
   ]
  },
  {
   "cell_type": "markdown",
   "metadata": {},
   "source": [
    "__To reduce the attrition:__ "
   ]
  },
  {
   "cell_type": "markdown",
   "metadata": {},
   "source": [
    "__Example: 6__\n",
    "- H0 = To reduce the attrition of employee, company acts on the collection information.(H0: mu = info)\n",
    "- H1 = To reduce the attrition of employee, company No acts on the collection information.(H1: mu != info)"
   ]
  },
  {
   "cell_type": "markdown",
   "metadata": {},
   "source": [
    "__Example: 7__\n",
    "- H0= Company evaluate employee on a regular basis. (H0: mu = 1) (Here Regular=1 and Not Regular = 0)\n",
    "- H1= Company evaluate employee not on a regular basis. (H1: mu != 1)"
   ]
  },
  {
   "cell_type": "markdown",
   "metadata": {},
   "source": [
    "__Example: 8__\n",
    "- H0 = Company conduct training and development program for employee on a regular basis.(H0: mu = 1) (Here Regular=1 and Not Regular = 0)\n",
    "- H1 = Company don't conduct training and development program for employee on a regular basis.(H1: mu != 1)"
   ]
  },
  {
   "cell_type": "markdown",
   "metadata": {},
   "source": [
    "__Example: 9__\n",
    "- H0 = Company has a policy for employee assistance on personal issues that may affect their performance at work.(H0: mu = 1)(Policy for employee= 1 and No Policy = 0)\n",
    "- H1 = Company has no policy for employee assistance on personal issues that may affect their performance at work.(H1: mu != 1)"
   ]
  },
  {
   "cell_type": "markdown",
   "metadata": {},
   "source": [
    "__Example: 10__\n",
    "- H0 = Company conducts customer satisfaction survey on regular basis.(H0: mu = 1)(Here Regular = 1 and Not Regular = 0)\n",
    "- H1 = Company don't conducts customer satisfaction survey on regular basis.(H1: mu != 1)"
   ]
  },
  {
   "cell_type": "code",
   "execution_count": null,
   "metadata": {},
   "outputs": [],
   "source": []
  }
 ],
 "metadata": {
  "kernelspec": {
   "display_name": "Python 3",
   "language": "python",
   "name": "python3"
  },
  "language_info": {
   "codemirror_mode": {
    "name": "ipython",
    "version": 3
   },
   "file_extension": ".py",
   "mimetype": "text/x-python",
   "name": "python",
   "nbconvert_exporter": "python",
   "pygments_lexer": "ipython3",
   "version": "3.7.6"
  }
 },
 "nbformat": 4,
 "nbformat_minor": 4
}
